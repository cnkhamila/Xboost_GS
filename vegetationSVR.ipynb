{
 "cells": [
  {
   "cell_type": "code",
   "execution_count": 41,
   "id": "7e6a6438",
   "metadata": {
    "scrolled": true
   },
   "outputs": [],
   "source": [
    "# import modules\n",
    "%matplotlib inline\n",
    "import json\n",
    "import numpy as np\n",
    "import pandas as pd\n",
    "import os\n",
    "import sklearn\n",
    "import xgboost\n",
    "from sklearn.model_selection import GridSearchCV"
   ]
  },
  {
   "cell_type": "code",
   "execution_count": 42,
   "id": "02c13069",
   "metadata": {},
   "outputs": [
    {
     "data": {
      "text/html": [
       "<div>\n",
       "<style scoped>\n",
       "    .dataframe tbody tr th:only-of-type {\n",
       "        vertical-align: middle;\n",
       "    }\n",
       "\n",
       "    .dataframe tbody tr th {\n",
       "        vertical-align: top;\n",
       "    }\n",
       "\n",
       "    .dataframe thead th {\n",
       "        text-align: right;\n",
       "    }\n",
       "</style>\n",
       "<table border=\"1\" class=\"dataframe\">\n",
       "  <thead>\n",
       "    <tr style=\"text-align: right;\">\n",
       "      <th></th>\n",
       "      <th>Scientific name</th>\n",
       "      <th>Common name</th>\n",
       "      <th>Height</th>\n",
       "      <th>Density</th>\n",
       "      <th>NDVI</th>\n",
       "      <th>LAI</th>\n",
       "    </tr>\n",
       "  </thead>\n",
       "  <tbody>\n",
       "    <tr>\n",
       "      <th>0</th>\n",
       "      <td>Acmena smithii</td>\n",
       "      <td>Lillypilly</td>\n",
       "      <td>20</td>\n",
       "      <td>12</td>\n",
       "      <td>0.7</td>\n",
       "      <td>6</td>\n",
       "    </tr>\n",
       "    <tr>\n",
       "      <th>1</th>\n",
       "      <td>Allocasuarina littoralis</td>\n",
       "      <td>Black She Oak</td>\n",
       "      <td>23</td>\n",
       "      <td>14</td>\n",
       "      <td>0.6</td>\n",
       "      <td>4</td>\n",
       "    </tr>\n",
       "    <tr>\n",
       "      <th>2</th>\n",
       "      <td>Allocasuarina torulosa</td>\n",
       "      <td>Forest Oak</td>\n",
       "      <td>40</td>\n",
       "      <td>15</td>\n",
       "      <td>0.7</td>\n",
       "      <td>5</td>\n",
       "    </tr>\n",
       "    <tr>\n",
       "      <th>3</th>\n",
       "      <td>Angophora costata</td>\n",
       "      <td>Smooth Barked Apple</td>\n",
       "      <td>21</td>\n",
       "      <td>17</td>\n",
       "      <td>0.4</td>\n",
       "      <td>3</td>\n",
       "    </tr>\n",
       "    <tr>\n",
       "      <th>4</th>\n",
       "      <td>Casuarina cunninghamiana</td>\n",
       "      <td>River She Oak</td>\n",
       "      <td>29</td>\n",
       "      <td>43</td>\n",
       "      <td>0.5</td>\n",
       "      <td>4</td>\n",
       "    </tr>\n",
       "  </tbody>\n",
       "</table>\n",
       "</div>"
      ],
      "text/plain": [
       "            Scientific name          Common name  Height  Density  NDVI  LAI\n",
       "0            Acmena smithii           Lillypilly      20       12   0.7    6\n",
       "1  Allocasuarina littoralis        Black She Oak      23       14   0.6    4\n",
       "2    Allocasuarina torulosa           Forest Oak      40       15   0.7    5\n",
       "3         Angophora costata  Smooth Barked Apple      21       17   0.4    3\n",
       "4  Casuarina cunninghamiana        River She Oak      29       43   0.5    4"
      ]
     },
     "execution_count": 42,
     "metadata": {},
     "output_type": "execute_result"
    }
   ],
   "source": [
    "vegetation_data = pd.read_csv(\"C:/Users/46669043/Documents/tesdata/vegetation.csv\")\n",
    "vegetation_data.head()"
   ]
  },
  {
   "cell_type": "code",
   "execution_count": 43,
   "id": "a99c2f88",
   "metadata": {},
   "outputs": [],
   "source": [
    "X = vegetation_data.iloc[:, :1:2].values\n",
    "Y = vegetation_data.iloc[:, 2:].values"
   ]
  },
  {
   "cell_type": "code",
   "execution_count": 44,
   "id": "23357602",
   "metadata": {},
   "outputs": [],
   "source": [
    "from sklearn.model_selection import train_test_split\n",
    "X_train, X_test, Y_train, Y_test = train_test_split(X, Y, test_size = .2)"
   ]
  },
  {
   "cell_type": "code",
   "execution_count": 47,
   "id": "03283d3d",
   "metadata": {},
   "outputs": [],
   "source": [
    "from xgboost import XGBRegressor\n",
    "xgb_model = XGBRegressor(random_state = 2021)\n",
    "\n",
    "# define a dictionary of hyperparameters for the model to search\n",
    "search_space = {\n",
    "    \"n_estimators\" : [100, 200, 500],\n",
    "    \"max_depth\" : [3, 6, 9],\n",
    "    \"gamma\" : [0.01, 0.1, 10],\n",
    "    \"learning_rate\" : [0.001, 0.01, 0.1, 1],\n",
    "    \"random_state\" : [24]\n",
    "}"
   ]
  },
  {
   "cell_type": "code",
   "execution_count": 49,
   "id": "9038311f",
   "metadata": {},
   "outputs": [],
   "source": [
    "grid_search = GridSearchCV(estimator = xgb_model,\n",
    "                  param_grid = search_space,\n",
    "                  scoring = [\"r2\", \"neg_root_mean_squared_error\"], \n",
    "                  refit = \"r2\",\n",
    "                  cv = 10,\n",
    "                  verbose = True)"
   ]
  },
  {
   "cell_type": "code",
   "execution_count": 52,
   "id": "fd1f82f5",
   "metadata": {},
   "outputs": [],
   "source": [
    "#print best model\n",
    "print(grid_search.best_estimator_) \n",
    "\n",
    "#print best hyperparameters\n",
    "print(grid_search.best_params_)"
   ]
  },
  {
   "cell_type": "code",
   "execution_count": 54,
   "id": "21633502",
   "metadata": {},
   "outputs": [],
   "source": [
    "#export df data to drive\n",
    "veg_df = pd.DataFrame(grid_search.cv_results_)\n",
    "veg_df = df.sort_values(\"rank_test_r2\")\n",
    "veg_df.to_csv(\"cv_results.csv\", index = False)"
   ]
  }
 ],
 "metadata": {
  "kernelspec": {
   "display_name": "Python 3 (ipykernel)",
   "language": "python",
   "name": "python3"
  },
  "language_info": {
   "codemirror_mode": {
    "name": "ipython",
    "version": 3
   },
   "file_extension": ".py",
   "mimetype": "text/x-python",
   "name": "python",
   "nbconvert_exporter": "python",
   "pygments_lexer": "ipython3",
   "version": "3.11.2"
  }
 },
 "nbformat": 4,
 "nbformat_minor": 5
}
